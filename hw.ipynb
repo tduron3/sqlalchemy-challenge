{
 "cells": [
  {
   "cell_type": "code",
   "execution_count": 115,
   "metadata": {},
   "outputs": [],
   "source": [
    "%matplotlib inline\n",
    "from matplotlib import style\n",
    "style.use('fivethirtyeight')\n",
    "import matplotlib.pyplot as plt"
   ]
  },
  {
   "cell_type": "code",
   "execution_count": 167,
   "metadata": {},
   "outputs": [],
   "source": [
    "import numpy as np\n",
    "import pandas as pd\n",
    "import datetime as dt\n",
    "import statistics\n",
    "import collections"
   ]
  },
  {
   "cell_type": "markdown",
   "metadata": {},
   "source": [
    "# Reflect Tables into SQLAlchemy ORM"
   ]
  },
  {
   "cell_type": "code",
   "execution_count": 168,
   "metadata": {},
   "outputs": [],
   "source": [
    "# Python SQL toolkit and Object Relational Mapper\n",
    "import sqlalchemy\n",
    "from sqlalchemy.ext.automap import automap_base\n",
    "from sqlalchemy.orm import Session\n",
    "from sqlalchemy import create_engine, inspect, func, Column, Integer, Date, VARCHAR, Text\n",
    "from sqlalchemy import *\n",
    "Base = automap_base()\n"
   ]
  },
  {
   "cell_type": "code",
   "execution_count": 169,
   "metadata": {},
   "outputs": [],
   "source": [
    "class measurement(Base):\n",
    "    __tablename__ = 'measurement'\n",
    "    id = Column(VARCHAR, primary_key=True)\n",
    "    station = Column(VARCHAR)\n",
    "    date = Column(Date)\n",
    "    prcp = Column(Integer)\n",
    "    tobs = Column(Integer)"
   ]
  },
  {
   "cell_type": "code",
   "execution_count": 170,
   "metadata": {},
   "outputs": [],
   "source": [
    "class station(Base):\n",
    "    __tablename__ = 'station'\n",
    "    id = Column(VARCHAR, primary_key=True)\n",
    "    station = Column(VARCHAR)\n",
    "    name = Column(VARCHAR)\n",
    "    latitude = Column(Integer)\n",
    "    longitude = Column(Integer)\n",
    "    elevation = Column(Integer)"
   ]
  },
  {
   "cell_type": "code",
   "execution_count": 171,
   "metadata": {},
   "outputs": [
    {
     "data": {
      "text/plain": [
       "immutabledict({'measurement': Table('measurement', MetaData(bind=None), Column('id', VARCHAR(), table=<measurement>, primary_key=True, nullable=False), Column('station', VARCHAR(), table=<measurement>), Column('date', Date(), table=<measurement>), Column('prcp', Integer(), table=<measurement>), Column('tobs', Integer(), table=<measurement>), schema=None), 'station': Table('station', MetaData(bind=None), Column('id', VARCHAR(), table=<station>, primary_key=True, nullable=False), Column('station', VARCHAR(), table=<station>), Column('name', VARCHAR(), table=<station>), Column('latitude', Integer(), table=<station>), Column('longitude', Integer(), table=<station>), Column('elevation', Integer(), table=<station>), schema=None)})"
      ]
     },
     "execution_count": 171,
     "metadata": {},
     "output_type": "execute_result"
    }
   ],
   "source": [
    "Base.metadata.tables"
   ]
  },
  {
   "cell_type": "code",
   "execution_count": 172,
   "metadata": {},
   "outputs": [],
   "source": [
    "# create engine to hawaii.sqlite\n",
    "engine = create_engine(\"sqlite:///../sqlalchemy-challenge/resources/hawaii.sqlite\", echo=False)\n",
    "conn = engine.connect"
   ]
  },
  {
   "cell_type": "code",
   "execution_count": 173,
   "metadata": {},
   "outputs": [],
   "source": [
    "Base.metadata.create_all(engine)"
   ]
  },
  {
   "cell_type": "code",
   "execution_count": 174,
   "metadata": {},
   "outputs": [
    {
     "name": "stdout",
     "output_type": "stream",
     "text": [
      "id INTEGER\n",
      "station TEXT\n",
      "date TEXT\n",
      "prcp FLOAT\n",
      "tobs FLOAT\n"
     ]
    }
   ],
   "source": [
    "inspector = inspect(engine)\n",
    "columns = inspector.get_columns('measurement')\n",
    "for c in columns:\n",
    "    print(c['name'], c[\"type\"])"
   ]
  },
  {
   "cell_type": "code",
   "execution_count": 175,
   "metadata": {},
   "outputs": [
    {
     "name": "stdout",
     "output_type": "stream",
     "text": [
      "id INTEGER\n",
      "station TEXT\n",
      "name TEXT\n",
      "latitude FLOAT\n",
      "longitude FLOAT\n",
      "elevation FLOAT\n"
     ]
    }
   ],
   "source": [
    "inspector = inspect(engine)\n",
    "columns = inspector.get_columns('station')\n",
    "for c in columns:\n",
    "    print(c['name'], c['type'])"
   ]
  },
  {
   "cell_type": "code",
   "execution_count": 176,
   "metadata": {},
   "outputs": [],
   "source": [
    "# reflect an existing database into a new model\n",
    "Base = automap_base()\n",
    "\n",
    "# reflect the tables\n",
    "Base.prepare(engine, reflect=True)"
   ]
  },
  {
   "cell_type": "code",
   "execution_count": 177,
   "metadata": {},
   "outputs": [
    {
     "data": {
      "text/plain": [
       "['Measurements', 'Stations', 'measurement', 'station']"
      ]
     },
     "execution_count": 177,
     "metadata": {},
     "output_type": "execute_result"
    }
   ],
   "source": [
    "# View all of the classes that automap found\n",
    "Base.classes.keys()"
   ]
  },
  {
   "cell_type": "code",
   "execution_count": 178,
   "metadata": {},
   "outputs": [],
   "source": [
    "# Save references to each table\n",
    "station = Base.classes.station\n",
    "measurement = Base.classes.measurement"
   ]
  },
  {
   "cell_type": "code",
   "execution_count": 179,
   "metadata": {},
   "outputs": [],
   "source": [
    "# Create our session (link) from Python to the DB\n",
    "session = Session(engine)"
   ]
  },
  {
   "cell_type": "markdown",
   "metadata": {},
   "source": [
    "# Exploratory Precipitation Analysis"
   ]
  },
  {
   "cell_type": "code",
   "execution_count": 180,
   "metadata": {},
   "outputs": [
    {
     "name": "stdout",
     "output_type": "stream",
     "text": [
      "('2017-08-23',)\n"
     ]
    }
   ],
   "source": [
    "# Find the most recent date in the data set.\n",
    "recent = session.query(measurement.date).order_by(measurement.date.desc()).first()\n",
    "print(recent)"
   ]
  },
  {
   "cell_type": "code",
   "execution_count": 181,
   "metadata": {},
   "outputs": [
    {
     "data": {
      "text/plain": [
       "[('2017-07-31', 0.0),\n",
       " ('2017-07-28', 0.77),\n",
       " ('2017-07-27', 0.01),\n",
       " ('2017-07-26', 0.5),\n",
       " ('2017-07-25', 0.61),\n",
       " ('2017-07-21', 0.13),\n",
       " ('2017-07-20', 1.24),\n",
       " ('2017-07-18', 2.53),\n",
       " ('2017-07-13', 1.81),\n",
       " ('2017-07-12', 0.36000000000000004),\n",
       " ('2017-07-11', 0.03),\n",
       " ('2017-07-10', 0.04),\n",
       " ('2017-07-07', 0.5),\n",
       " ('2017-07-05', 0.0),\n",
       " ('2017-07-03', 0.74),\n",
       " ('2017-06-30', 0.52),\n",
       " ('2017-06-29', 0.07),\n",
       " ('2017-06-26', 0.1),\n",
       " ('2017-06-23', 0.6699999999999999),\n",
       " ('2017-06-19', 0.73),\n",
       " ('2017-06-16', 0.2),\n",
       " ('2017-06-15', 2.71),\n",
       " ('2017-06-14', 1.57),\n",
       " ('2017-06-13', 1.38),\n",
       " ('2017-06-08', 0.03),\n",
       " ('2017-06-07', 0.01),\n",
       " ('2017-06-06', 0.0),\n",
       " ('2017-06-05', 0.08),\n",
       " ('2017-04-28', 4.24),\n",
       " ('2017-04-27', 0.42),\n",
       " ('2017-04-25', 0.0),\n",
       " ('2017-04-24', 0.060000000000000005),\n",
       " ('2017-04-21', 8.38),\n",
       " ('2017-04-20', 0.78),\n",
       " ('2017-04-19', 0.2),\n",
       " ('2017-04-18', 3.36),\n",
       " ('2017-04-17', 3.0700000000000003),\n",
       " ('2017-04-13', 1.09),\n",
       " ('2017-04-12', 1.08),\n",
       " ('2017-04-11', 0.47),\n",
       " ('2017-04-10', 0.02),\n",
       " ('2017-04-06', 0.06),\n",
       " ('2017-04-05', 0.66),\n",
       " ('2017-04-04', 0.15),\n",
       " ('2017-04-03', 0.66),\n",
       " ('2017-03-31', 0.01),\n",
       " ('2017-03-29', 0.19),\n",
       " ('2017-03-28', 0.7100000000000001),\n",
       " ('2017-03-16', 0.0),\n",
       " ('2017-03-14', 0.06),\n",
       " ('2017-03-13', 0.0),\n",
       " ('2017-03-10', 0.29000000000000004),\n",
       " ('2017-03-09', 1.9600000000000002),\n",
       " ('2017-03-06', 0.54),\n",
       " ('2017-03-03', 2.23),\n",
       " ('2017-03-01', 11.620000000000001),\n",
       " ('2017-02-28', 0.82),\n",
       " ('2017-02-27', 0.0),\n",
       " ('2017-02-24', 0.0),\n",
       " ('2017-02-23', 0.01),\n",
       " ('2017-02-22', 0.9100000000000001),\n",
       " ('2017-02-16', 2.2199999999999998),\n",
       " ('2017-02-15', 0.08),\n",
       " ('2017-02-13', 2.9199999999999995),\n",
       " ('2017-02-10', 0.0),\n",
       " ('2017-02-09', 0.02),\n",
       " ('2017-02-08', 1.08),\n",
       " ('2017-02-07', 7.4),\n",
       " ('2017-02-06', 0.38),\n",
       " ('2017-02-02', 0.0),\n",
       " ('2017-02-01', 0.0),\n",
       " ('2017-01-31', 0.0),\n",
       " ('2017-01-30', 0.05),\n",
       " ('2017-01-27', 0.06),\n",
       " ('2017-01-26', 0.11),\n",
       " ('2017-01-25', 3.58),\n",
       " ('2017-01-23', 0.94),\n",
       " ('2017-01-20', 0.0),\n",
       " ('2017-01-19', 0.02),\n",
       " ('2017-01-18', 0.07),\n",
       " ('2017-01-10', 0.0),\n",
       " ('2017-01-09', 0.0),\n",
       " ('2016-12-30', 3.35),\n",
       " ('2016-12-29', 2.38),\n",
       " ('2016-12-28', 0.41000000000000003),\n",
       " ('2016-12-23', 1.23),\n",
       " ('2016-12-22', 2.4699999999999998),\n",
       " ('2016-12-21', 0.9),\n",
       " ('2016-12-20', 0.03),\n",
       " ('2016-12-19', 0.42000000000000004),\n",
       " ('2016-12-16', 0.04),\n",
       " ('2016-12-15', 0.26),\n",
       " ('2016-12-14', 1.5),\n",
       " ('2016-12-13', 0.77),\n",
       " ('2016-12-12', 0.05),\n",
       " ('2016-12-08', 0.4600000000000001),\n",
       " ('2016-12-07', 0.38),\n",
       " ('2016-12-05', 3.24),\n",
       " ('2016-12-02', 2.36),\n",
       " ('2016-12-01', 1.77),\n",
       " ('2016-11-30', 1.06),\n",
       " ('2016-11-29', 0.43000000000000005),\n",
       " ('2016-11-28', 0.72),\n",
       " ('2016-11-22', 5.01),\n",
       " ('2016-11-17', 0.06),\n",
       " ('2016-11-16', 1.54),\n",
       " ('2016-11-15', 0.05),\n",
       " ('2016-11-14', 0.15),\n",
       " ('2016-11-09', 0.39999999999999997),\n",
       " ('2016-11-07', 0.18),\n",
       " ('2016-11-04', 0.06),\n",
       " ('2016-10-31', 1.61),\n",
       " ('2016-10-28', 0.5700000000000001),\n",
       " ('2016-10-27', 1.8599999999999999),\n",
       " ('2016-10-25', 1.1),\n",
       " ('2016-10-24', 0.7899999999999999),\n",
       " ('2016-10-21', 0.32),\n",
       " ('2016-10-19', 0.16999999999999998),\n",
       " ('2016-10-18', 0.6),\n",
       " ('2016-10-17', 0.55),\n",
       " ('2016-10-13', 0.08),\n",
       " ('2016-10-11', 0.69),\n",
       " ('2016-10-07', 0.01),\n",
       " ('2016-10-06', 0.16),\n",
       " ('2016-10-05', 0.8200000000000001),\n",
       " ('2016-10-04', 3.4899999999999998),\n",
       " ('2016-10-03', 0.6900000000000001),\n",
       " ('2016-09-30', 1.15),\n",
       " ('2016-09-29', 2.99),\n",
       " ('2016-09-28', 0.13),\n",
       " ('2016-09-26', 1.67),\n",
       " ('2016-09-23', 1.57),\n",
       " ('2016-09-22', 1.44),\n",
       " ('2016-09-20', 1.03),\n",
       " ('2016-09-19', 0.32),\n",
       " ('2016-09-16', 0.8200000000000001),\n",
       " ('2016-09-15', 4.96),\n",
       " ('2016-09-14', 14.280000000000001),\n",
       " ('2016-09-13', 2.71),\n",
       " ('2016-09-12', 1.54),\n",
       " ('2016-09-09', 1.0699999999999998),\n",
       " ('2016-09-08', 0.4600000000000001),\n",
       " ('2016-09-02', 0.25),\n",
       " ('2016-08-31', 3.1799999999999997),\n",
       " ('2016-08-29', 1.46),\n",
       " ('2016-08-25', 0.54),\n",
       " ('2016-08-24', 9.329999999999998),\n",
       " ('2017-07-29', 0.61),\n",
       " ('2017-07-24', 3.2699999999999996),\n",
       " ('2017-07-22', 4.42),\n",
       " ('2017-07-19', 0.41000000000000003),\n",
       " ('2017-07-17', 0.91),\n",
       " ('2017-07-16', 0.81),\n",
       " ('2017-07-15', 0.19),\n",
       " ('2017-07-14', 0.9500000000000001),\n",
       " ('2017-07-09', 0.2),\n",
       " ('2017-07-08', 0.1),\n",
       " ('2017-07-06', 0.02),\n",
       " ('2017-06-28', 0.03),\n",
       " ('2017-06-27', 0.11),\n",
       " ('2017-06-22', 0.44000000000000006),\n",
       " ('2017-06-21', 0.51),\n",
       " ('2017-06-20', 0.55),\n",
       " ('2017-06-18', 1.42),\n",
       " ('2017-06-17', 0.54),\n",
       " ('2017-06-12', 1.75),\n",
       " ('2017-06-11', 2.15),\n",
       " ('2017-06-10', 1.53),\n",
       " ('2017-06-09', 0.04),\n",
       " ('2017-06-04', 1.15),\n",
       " ('2017-06-03', 0.61),\n",
       " ('2017-06-02', 0.33999999999999997),\n",
       " ('2017-06-01', 0.04),\n",
       " ('2017-05-30', 1.73),\n",
       " ('2017-05-28', 0.41000000000000003),\n",
       " ('2017-05-27', 0.51),\n",
       " ('2017-05-25', 2.22),\n",
       " ('2017-05-24', 3.8899999999999997),\n",
       " ('2017-05-23', 0.71),\n",
       " ('2017-05-22', 0.36),\n",
       " ('2017-05-20', 0.03),\n",
       " ('2017-05-18', 0.85),\n",
       " ('2017-05-17', 0.15000000000000002),\n",
       " ('2017-05-16', 0.42),\n",
       " ('2017-05-15', 0.88),\n",
       " ('2017-05-12', 0.16),\n",
       " ('2017-05-10', 0.8600000000000001),\n",
       " ('2017-05-08', 3.01),\n",
       " ('2017-05-06', 0.06),\n",
       " ('2017-05-05', 0.38),\n",
       " ('2017-05-04', 0.08),\n",
       " ('2017-05-02', 0.05),\n",
       " ('2017-05-01', 0.81),\n",
       " ('2017-04-30', 6.42),\n",
       " ('2017-04-29', 8.04),\n",
       " ('2017-04-26', 0.39),\n",
       " ('2017-04-14', 6.72),\n",
       " ('2017-04-09', 0.0),\n",
       " ('2017-04-07', 0.0),\n",
       " ('2017-04-02', 0.0),\n",
       " ('2017-04-01', 0.41000000000000003),\n",
       " ('2017-03-30', 0.15),\n",
       " ('2017-03-27', 0.01),\n",
       " ('2017-03-24', 1.1300000000000001),\n",
       " ('2017-03-23', 0.05),\n",
       " ('2017-03-22', 0.0),\n",
       " ('2017-03-21', 0.09),\n",
       " ('2017-03-20', 0.02),\n",
       " ('2017-03-18', 0.0),\n",
       " ('2017-03-17', 0.72),\n",
       " ('2017-03-15', 0.06),\n",
       " ('2017-03-08', 0.0),\n",
       " ('2017-03-07', 0.0),\n",
       " ('2017-03-02', 6.56),\n",
       " ('2017-02-26', 0.0),\n",
       " ('2017-02-21', 0.13),\n",
       " ('2017-02-20', 0.0),\n",
       " ('2017-02-17', 1.0500000000000003),\n",
       " ('2017-02-14', 0.01),\n",
       " ('2017-02-12', 10.48),\n",
       " ('2017-02-11', 11.200000000000001),\n",
       " ('2017-02-05', 0.0),\n",
       " ('2017-02-03', 0.0),\n",
       " ('2017-01-24', 2.25),\n",
       " ('2017-01-21', 0.27999999999999997),\n",
       " ('2017-01-17', 0.0),\n",
       " ('2017-01-16', 0.0),\n",
       " ('2017-01-13', 0.0),\n",
       " ('2017-01-12', 0.0),\n",
       " ('2017-01-11', 0.0),\n",
       " ('2017-01-08', 0.06),\n",
       " ('2017-01-07', 0.06),\n",
       " ('2017-01-06', 0.7999999999999999),\n",
       " ('2017-01-05', 0.95),\n",
       " ('2017-01-04', 0.18),\n",
       " ('2017-01-03', 0.0),\n",
       " ('2017-01-01', 0.35),\n",
       " ('2016-12-27', 0.24000000000000002),\n",
       " ('2016-12-26', 2.04),\n",
       " ('2016-12-24', 1.62),\n",
       " ('2016-12-18', 0.89),\n",
       " ('2016-12-10', 0.13),\n",
       " ('2016-12-09', 1.85),\n",
       " ('2016-12-06', 0.04),\n",
       " ('2016-12-04', 0.8),\n",
       " ('2016-12-03', 2.71),\n",
       " ('2016-11-27', 0.55),\n",
       " ('2016-11-26', 0.51),\n",
       " ('2016-11-25', 1.32),\n",
       " ('2016-11-23', 0.67),\n",
       " ('2016-11-21', 3.08),\n",
       " ('2016-11-13', 0.0),\n",
       " ('2016-11-12', 0.0),\n",
       " ('2016-11-11', 0.0),\n",
       " ('2016-11-10', 0.01),\n",
       " ('2016-11-08', 1.12),\n",
       " ('2016-11-06', 0.08),\n",
       " ('2016-11-05', 0.45),\n",
       " ('2016-11-03', 0.02),\n",
       " ('2016-11-02', 0.04),\n",
       " ('2016-11-01', 0.21000000000000002),\n",
       " ('2016-10-30', 1.5899999999999999),\n",
       " ('2016-10-29', 0.64),\n",
       " ('2016-10-26', 0.29000000000000004),\n",
       " ('2016-10-23', 0.27999999999999997),\n",
       " ('2016-10-20', 1.01),\n",
       " ('2016-10-15', 0.39),\n",
       " ('2016-10-14', 0.0),\n",
       " ('2016-10-12', 0.08),\n",
       " ('2016-10-10', 0.0),\n",
       " ('2016-10-02', 0.72),\n",
       " ('2016-10-01', 1.4500000000000002),\n",
       " ('2016-09-27', 1.3599999999999999),\n",
       " ('2016-09-25', 0.09),\n",
       " ('2016-09-24', 0.28),\n",
       " ('2016-09-21', 1.17),\n",
       " ('2016-09-07', 2.0),\n",
       " ('2016-09-06', 1.23),\n",
       " ('2016-09-05', 0.33999999999999997),\n",
       " ('2016-09-01', 0.03),\n",
       " ('2016-08-30', 0.07),\n",
       " ('2016-08-28', 3.0999999999999996),\n",
       " ('2016-08-27', 0.31999999999999995),\n",
       " ('2016-08-26', 0.09999999999999999),\n",
       " ('2017-08-15', 0.8200000000000001),\n",
       " ('2017-08-14', 0.31),\n",
       " ('2017-08-13', 0.0),\n",
       " ('2017-08-06', 0.0),\n",
       " ('2017-07-30', 0.3),\n",
       " ('2017-07-23', 1.1300000000000001),\n",
       " ('2017-07-02', 0.72),\n",
       " ('2017-06-25', 0.6),\n",
       " ('2017-06-24', 0.64),\n",
       " ('2017-05-31', 0.37),\n",
       " ('2017-05-29', 0.42000000000000004),\n",
       " ('2017-05-26', 0.02),\n",
       " ('2017-05-21', 0.01),\n",
       " ('2017-05-14', 1.22),\n",
       " ('2017-05-13', 0.24),\n",
       " ('2017-05-11', 0.6),\n",
       " ('2017-05-09', 4.630000000000001),\n",
       " ('2017-05-07', 0.12000000000000001),\n",
       " ('2017-05-03', 0.03),\n",
       " ('2017-04-22', 4.960000000000001),\n",
       " ('2017-04-16', 1.07),\n",
       " ('2017-04-15', 1.7400000000000002),\n",
       " ('2017-03-26', 0.0),\n",
       " ('2017-03-25', 1.9700000000000002),\n",
       " ('2017-03-19', 0.0),\n",
       " ('2017-03-12', 0.0),\n",
       " ('2017-03-11', 0.04),\n",
       " ('2017-03-04', 0.0),\n",
       " ('2017-02-18', 0.01),\n",
       " ('2017-02-04', 0.0),\n",
       " ('2017-01-29', 0.99),\n",
       " ('2017-01-28', 0.14),\n",
       " ('2017-01-22', 1.02),\n",
       " ('2017-01-15', 0.01),\n",
       " ('2017-01-14', 0.01),\n",
       " ('2017-01-02', 0.02),\n",
       " ('2016-12-31', 2.14),\n",
       " ('2016-12-25', 0.43),\n",
       " ('2016-12-17', 0.35000000000000003),\n",
       " ('2016-12-11', 0.25),\n",
       " ('2016-11-24', 1.48),\n",
       " ('2016-11-20', 0.9500000000000001),\n",
       " ('2016-11-18', 0.03),\n",
       " ('2016-10-22', 1.77),\n",
       " ('2016-10-16', 0.0),\n",
       " ('2016-10-09', 0.0),\n",
       " ('2016-10-08', 0.04),\n",
       " ('2016-09-18', 0.53),\n",
       " ('2016-09-17', 0.6799999999999999),\n",
       " ('2016-09-11', 1.25),\n",
       " ('2016-09-10', 1.4),\n",
       " ('2016-09-04', 1.3800000000000001),\n",
       " ('2016-09-03', 1.27),\n",
       " ('2017-08-23', 0.53),\n",
       " ('2017-08-21', 0.5800000000000001),\n",
       " ('2017-08-19', 0.09),\n",
       " ('2017-08-18', 0.06),\n",
       " ('2017-08-17', 0.19),\n",
       " ('2017-08-16', 0.61),\n",
       " ('2017-08-11', 0.0),\n",
       " ('2017-08-10', 0.07),\n",
       " ('2017-08-08', 0.44000000000000006),\n",
       " ('2017-08-07', 0.05),\n",
       " ('2017-08-04', 0.06),\n",
       " ('2017-08-03', 0.06999999999999999),\n",
       " ('2017-08-02', 0.3),\n",
       " ('2017-08-01', 0.13999999999999999),\n",
       " ('2017-07-04', 0.15000000000000002),\n",
       " ('2017-07-01', 0.26),\n",
       " ('2017-05-19', 0.04),\n",
       " ('2017-04-23', 0.45999999999999996),\n",
       " ('2017-04-08', 0.0),\n",
       " ('2017-03-05', 1.21),\n",
       " ('2017-02-25', 0.15),\n",
       " ('2017-02-19', 0.19),\n",
       " ('2016-11-19', 0.38),\n",
       " ('2017-08-22', 0.5),\n",
       " ('2017-08-20', 0.01),\n",
       " ('2017-08-12', 0.14),\n",
       " ('2017-08-09', 0.15),\n",
       " ('2017-08-05', 0.06)]"
      ]
     },
     "execution_count": 181,
     "metadata": {},
     "output_type": "execute_result"
    }
   ],
   "source": [
    "# Design a query to retrieve the last 12 months of precipitation data and plot the results. \n",
    "# Starting from the most recent data point in the database\n",
    "    \n",
    "result = session.query(measurement.date, func.sum(measurement.prcp)).\\\n",
    "    filter(measurement.date > '2016-08-23').\\\n",
    "    group_by(measurement.date).\\\n",
    "    order_by(func.sum(measurement.date).desc()).all()\n",
    "result\n",
    "\n",
    "# Use Pandas Plotting with Matplotlib to plot the data\n",
    "\n",
    "\n"
   ]
  },
  {
   "cell_type": "code",
   "execution_count": 182,
   "metadata": {},
   "outputs": [
    {
     "name": "stdout",
     "output_type": "stream",
     "text": [
      "Query Date:  2016-08-23\n"
     ]
    }
   ],
   "source": [
    "# Calculate the date one year from the last date in data set.\n",
    "query_date = dt.date(2017, 8, 23) - dt.timedelta(days=365)\n",
    "print(\"Query Date: \", query_date)"
   ]
  },
  {
   "cell_type": "code",
   "execution_count": 183,
   "metadata": {},
   "outputs": [
    {
     "name": "stdout",
     "output_type": "stream",
     "text": [
      "           date  prcp\n",
      "0    2017-07-31  0.00\n",
      "1    2017-07-28  0.77\n",
      "2    2017-07-27  0.01\n",
      "3    2017-07-26  0.50\n",
      "4    2017-07-25  0.61\n",
      "..          ...   ...\n",
      "360  2017-08-22  0.50\n",
      "361  2017-08-20  0.01\n",
      "362  2017-08-12  0.14\n",
      "363  2017-08-09  0.15\n",
      "364  2017-08-05  0.06\n",
      "\n",
      "[365 rows x 2 columns]\n"
     ]
    }
   ],
   "source": [
    "# Save the query results as a Pandas DataFrame and set the index to the date column\n",
    "df = pd.DataFrame(result, columns = ['date', 'prcp'])\n",
    "\n",
    "print(df)\n"
   ]
  },
  {
   "cell_type": "code",
   "execution_count": 184,
   "metadata": {},
   "outputs": [
    {
     "data": {
      "text/html": [
       "<div>\n",
       "<style scoped>\n",
       "    .dataframe tbody tr th:only-of-type {\n",
       "        vertical-align: middle;\n",
       "    }\n",
       "\n",
       "    .dataframe tbody tr th {\n",
       "        vertical-align: top;\n",
       "    }\n",
       "\n",
       "    .dataframe thead th {\n",
       "        text-align: right;\n",
       "    }\n",
       "</style>\n",
       "<table border=\"1\" class=\"dataframe\">\n",
       "  <thead>\n",
       "    <tr style=\"text-align: right;\">\n",
       "      <th></th>\n",
       "      <th>date</th>\n",
       "      <th>prcp</th>\n",
       "    </tr>\n",
       "  </thead>\n",
       "  <tbody>\n",
       "    <tr>\n",
       "      <th>146</th>\n",
       "      <td>2016-08-24</td>\n",
       "      <td>9.33</td>\n",
       "    </tr>\n",
       "    <tr>\n",
       "      <th>145</th>\n",
       "      <td>2016-08-25</td>\n",
       "      <td>0.54</td>\n",
       "    </tr>\n",
       "    <tr>\n",
       "      <th>283</th>\n",
       "      <td>2016-08-26</td>\n",
       "      <td>0.10</td>\n",
       "    </tr>\n",
       "    <tr>\n",
       "      <th>282</th>\n",
       "      <td>2016-08-27</td>\n",
       "      <td>0.32</td>\n",
       "    </tr>\n",
       "    <tr>\n",
       "      <th>281</th>\n",
       "      <td>2016-08-28</td>\n",
       "      <td>3.10</td>\n",
       "    </tr>\n",
       "    <tr>\n",
       "      <th>...</th>\n",
       "      <td>...</td>\n",
       "      <td>...</td>\n",
       "    </tr>\n",
       "    <tr>\n",
       "      <th>339</th>\n",
       "      <td>2017-08-19</td>\n",
       "      <td>0.09</td>\n",
       "    </tr>\n",
       "    <tr>\n",
       "      <th>361</th>\n",
       "      <td>2017-08-20</td>\n",
       "      <td>0.01</td>\n",
       "    </tr>\n",
       "    <tr>\n",
       "      <th>338</th>\n",
       "      <td>2017-08-21</td>\n",
       "      <td>0.58</td>\n",
       "    </tr>\n",
       "    <tr>\n",
       "      <th>360</th>\n",
       "      <td>2017-08-22</td>\n",
       "      <td>0.50</td>\n",
       "    </tr>\n",
       "    <tr>\n",
       "      <th>337</th>\n",
       "      <td>2017-08-23</td>\n",
       "      <td>0.53</td>\n",
       "    </tr>\n",
       "  </tbody>\n",
       "</table>\n",
       "<p>365 rows × 2 columns</p>\n",
       "</div>"
      ],
      "text/plain": [
       "           date  prcp\n",
       "146  2016-08-24  9.33\n",
       "145  2016-08-25  0.54\n",
       "283  2016-08-26  0.10\n",
       "282  2016-08-27  0.32\n",
       "281  2016-08-28  3.10\n",
       "..          ...   ...\n",
       "339  2017-08-19  0.09\n",
       "361  2017-08-20  0.01\n",
       "338  2017-08-21  0.58\n",
       "360  2017-08-22  0.50\n",
       "337  2017-08-23  0.53\n",
       "\n",
       "[365 rows x 2 columns]"
      ]
     },
     "execution_count": 184,
     "metadata": {},
     "output_type": "execute_result"
    }
   ],
   "source": [
    "# Sort the dataframe by date\n",
    "df = df.sort_values(by=\"date\")\n",
    "df"
   ]
  },
  {
   "cell_type": "code",
   "execution_count": 185,
   "metadata": {},
   "outputs": [
    {
     "name": "stdout",
     "output_type": "stream",
     "text": [
      "3.147184849690374\n",
      "3.155830961914798\n",
      "1.7740306789033762\n",
      "1.776465862862216\n"
     ]
    }
   ],
   "source": [
    "print(statistics.pvariance(df[\"prcp\"]))\n",
    "print(statistics.variance(df[\"prcp\"]))\n",
    "print(statistics.pstdev(df['prcp']))\n",
    "print(statistics.stdev(df[\"prcp\"]))"
   ]
  },
  {
   "cell_type": "code",
   "execution_count": 186,
   "metadata": {},
   "outputs": [
    {
     "data": {
      "text/html": [
       "<div>\n",
       "<style scoped>\n",
       "    .dataframe tbody tr th:only-of-type {\n",
       "        vertical-align: middle;\n",
       "    }\n",
       "\n",
       "    .dataframe tbody tr th {\n",
       "        vertical-align: top;\n",
       "    }\n",
       "\n",
       "    .dataframe thead th {\n",
       "        text-align: right;\n",
       "    }\n",
       "</style>\n",
       "<table border=\"1\" class=\"dataframe\">\n",
       "  <thead>\n",
       "    <tr style=\"text-align: right;\">\n",
       "      <th></th>\n",
       "      <th>prcp</th>\n",
       "    </tr>\n",
       "  </thead>\n",
       "  <tbody>\n",
       "    <tr>\n",
       "      <th>count</th>\n",
       "      <td>365.000000</td>\n",
       "    </tr>\n",
       "    <tr>\n",
       "      <th>mean</th>\n",
       "      <td>0.974164</td>\n",
       "    </tr>\n",
       "    <tr>\n",
       "      <th>std</th>\n",
       "      <td>1.776466</td>\n",
       "    </tr>\n",
       "    <tr>\n",
       "      <th>min</th>\n",
       "      <td>0.000000</td>\n",
       "    </tr>\n",
       "    <tr>\n",
       "      <th>25%</th>\n",
       "      <td>0.050000</td>\n",
       "    </tr>\n",
       "    <tr>\n",
       "      <th>50%</th>\n",
       "      <td>0.400000</td>\n",
       "    </tr>\n",
       "    <tr>\n",
       "      <th>75%</th>\n",
       "      <td>1.080000</td>\n",
       "    </tr>\n",
       "    <tr>\n",
       "      <th>max</th>\n",
       "      <td>14.280000</td>\n",
       "    </tr>\n",
       "  </tbody>\n",
       "</table>\n",
       "</div>"
      ],
      "text/plain": [
       "             prcp\n",
       "count  365.000000\n",
       "mean     0.974164\n",
       "std      1.776466\n",
       "min      0.000000\n",
       "25%      0.050000\n",
       "50%      0.400000\n",
       "75%      1.080000\n",
       "max     14.280000"
      ]
     },
     "execution_count": 186,
     "metadata": {},
     "output_type": "execute_result"
    }
   ],
   "source": [
    "# Use Pandas to calcualte the summary statistics for the precipitation data\n",
    "df[[\"prcp\"]].describe()"
   ]
  },
  {
   "cell_type": "markdown",
   "metadata": {},
   "source": [
    "# Exploratory Station Analysis"
   ]
  },
  {
   "cell_type": "code",
   "execution_count": 187,
   "metadata": {},
   "outputs": [
    {
     "data": {
      "text/plain": [
       "9"
      ]
     },
     "execution_count": 187,
     "metadata": {},
     "output_type": "execute_result"
    }
   ],
   "source": [
    "# Design a query to calculate the total number stations in the dataset\n",
    "total_stations = session.query(station).count()\n",
    "total_stations\n",
    "\n"
   ]
  },
  {
   "cell_type": "code",
   "execution_count": 217,
   "metadata": {},
   "outputs": [
    {
     "ename": "AttributeError",
     "evalue": "'Query' object has no attribute 'value_counts'",
     "output_type": "error",
     "traceback": [
      "\u001b[1;31m---------------------------------------------------------------------------\u001b[0m",
      "\u001b[1;31mAttributeError\u001b[0m                            Traceback (most recent call last)",
      "\u001b[1;32m<ipython-input-217-e742fe546645>\u001b[0m in \u001b[0;36m<module>\u001b[1;34m\u001b[0m\n\u001b[0;32m      2\u001b[0m \u001b[1;31m# List the stations and the counts in descending order.\u001b[0m\u001b[1;33m\u001b[0m\u001b[1;33m\u001b[0m\u001b[1;33m\u001b[0m\u001b[0m\n\u001b[0;32m      3\u001b[0m \u001b[1;33m\u001b[0m\u001b[0m\n\u001b[1;32m----> 4\u001b[1;33m \u001b[0mactive\u001b[0m \u001b[1;33m=\u001b[0m \u001b[0msession\u001b[0m\u001b[1;33m.\u001b[0m\u001b[0mquery\u001b[0m\u001b[1;33m(\u001b[0m\u001b[0mmeasurement\u001b[0m\u001b[1;33m)\u001b[0m\u001b[1;33m.\u001b[0m\u001b[0mvalue_counts\u001b[0m\u001b[1;33m(\u001b[0m\u001b[1;33m)\u001b[0m\u001b[1;33m\u001b[0m\u001b[1;33m\u001b[0m\u001b[0m\n\u001b[0m\u001b[0;32m      5\u001b[0m \u001b[1;33m\u001b[0m\u001b[0m\n",
      "\u001b[1;31mAttributeError\u001b[0m: 'Query' object has no attribute 'value_counts'"
     ]
    }
   ],
   "source": [
    "# Design a query to find the most active stations (i.e. what stations have the most rows?)\n",
    "# List the stations and the counts in descending order.\n",
    "\n",
    "active = session.query(measurement).value_counts()\n",
    "\n"
   ]
  },
  {
   "cell_type": "code",
   "execution_count": null,
   "metadata": {},
   "outputs": [],
   "source": [
    "# Using the most active station id from the previous query, calculate the lowest, highest, and average temperature.\n"
   ]
  },
  {
   "cell_type": "code",
   "execution_count": null,
   "metadata": {},
   "outputs": [],
   "source": [
    "# Using the most active station id\n",
    "# Query the last 12 months of temperature observation data for this station and plot the results as a histogram\n"
   ]
  },
  {
   "cell_type": "markdown",
   "metadata": {},
   "source": [
    "# Close session"
   ]
  },
  {
   "cell_type": "code",
   "execution_count": null,
   "metadata": {},
   "outputs": [],
   "source": [
    "# Close Session\n",
    "session.close()"
   ]
  },
  {
   "cell_type": "code",
   "execution_count": null,
   "metadata": {},
   "outputs": [],
   "source": []
  }
 ],
 "metadata": {
  "anaconda-cloud": {},
  "kernel_info": {
   "name": "python3"
  },
  "kernelspec": {
   "display_name": "Python 3",
   "language": "python",
   "name": "python3"
  },
  "language_info": {
   "codemirror_mode": {
    "name": "ipython",
    "version": 3
   },
   "file_extension": ".py",
   "mimetype": "text/x-python",
   "name": "python",
   "nbconvert_exporter": "python",
   "pygments_lexer": "ipython3",
   "version": "3.8.5"
  },
  "nteract": {
   "version": "0.12.3"
  },
  "varInspector": {
   "cols": {
    "lenName": 16,
    "lenType": 16,
    "lenVar": 40
   },
   "kernels_config": {
    "python": {
     "delete_cmd_postfix": "",
     "delete_cmd_prefix": "del ",
     "library": "var_list.py",
     "varRefreshCmd": "print(var_dic_list())"
    },
    "r": {
     "delete_cmd_postfix": ") ",
     "delete_cmd_prefix": "rm(",
     "library": "var_list.r",
     "varRefreshCmd": "cat(var_dic_list()) "
    }
   },
   "types_to_exclude": [
    "module",
    "function",
    "builtin_function_or_method",
    "instance",
    "_Feature"
   ],
   "window_display": false
  }
 },
 "nbformat": 4,
 "nbformat_minor": 2
}
